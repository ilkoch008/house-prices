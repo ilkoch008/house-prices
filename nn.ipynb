{
 "cells": [
  {
   "cell_type": "code",
   "execution_count": 1,
   "metadata": {
    "collapsed": true,
    "pycharm": {
     "name": "#%%\n"
    }
   },
   "outputs": [],
   "source": [
    "import numpy as np\n",
    "import pandas as pd\n",
    "from matplotlib import pyplot as plt\n",
    "from sklearn.model_selection import train_test_split\n",
    "from sklearn.impute import KNNImputer\n",
    "from sklearn import preprocessing\n",
    "from sklearn.metrics import mean_squared_error\n",
    "from sklearn.metrics import mean_absolute_error\n",
    "from sklearn.model_selection import cross_val_score\n",
    "from sklearn.decomposition import PCA\n",
    "from IPython.display import clear_output\n",
    "import torch\n",
    "import torch.nn as nn\n",
    "import time\n",
    "from numpy.random import shuffle\n",
    "\n",
    "device = 'cuda' if torch.cuda.is_available() else 'cpu'\n",
    "\n",
    "def min_max_norm(x):\n",
    "    mx = np.min(x)\n",
    "    return (x - mx)/(np.max(x)-mx)\n",
    "\n",
    "def std_norm(x):\n",
    "    return (x - np.mean(x))/np.std(x)\n",
    "\n",
    "def mae(y_true, predictions):\n",
    "    return nn.functional.l1_loss(y_true, predictions).item()\n",
    "\n",
    "def plot_training(tr_loss, tr_mae, val_loss, val_mae):\n",
    "    fig, axes = plt.subplots(1, 2, figsize=(16, 6))\n",
    "\n",
    "    axes[0].set_title('MAE')\n",
    "    axes[0].plot(tr_mae, label='Training MAE')\n",
    "    axes[0].plot(val_mae, label='Validation MAE')\n",
    "    axes[0].set_xlabel('n epoch')\n",
    "    axes[0].grid(True)\n",
    "    axes[0].legend()\n",
    "\n",
    "    axes[1].set_title('Loss')\n",
    "    axes[1].plot(tr_loss, label='Training loss')\n",
    "    axes[1].plot(val_loss, label='Validation loss')\n",
    "    axes[1].set_xlabel('n epoch')\n",
    "    axes[1].grid(True)\n",
    "    axes[1].legend()\n",
    "\n",
    "    plt.show()\n",
    "\n",
    "def train_model(model, train_loader, val_loader, loss_fn, opt, n_epochs: int, device=device, scheduler=None, max_target=1):\n",
    "    train_loss = []\n",
    "    val_loss = []\n",
    "    train_mae = []\n",
    "    val_mae = []\n",
    "\n",
    "    for epoch in range(n_epochs):\n",
    "        ep_train_loss = []\n",
    "        ep_val_loss = []\n",
    "        ep_train_mae = []\n",
    "        ep_val_mae = []\n",
    "        start_time = time.time()\n",
    "\n",
    "        model.train(True)\n",
    "        for X_batch, y_batch in train_loader:\n",
    "            opt.zero_grad()\n",
    "            X_batch, y_batch = X_batch.to(device).float(), y_batch.to(device).float()\n",
    "            out = model(X_batch)\n",
    "            loss = loss_fn(out, y_batch)\n",
    "            loss.backward()\n",
    "            opt.step()\n",
    "            ep_train_loss.append(loss.item())\n",
    "            ep_train_mae.append(mae(y_batch*max_target, model(X_batch)*max_target))\n",
    "\n",
    "        model.train(False)\n",
    "        with torch.no_grad():\n",
    "            for X_batch, y_batch in val_loader:\n",
    "                X_batch, y_batch = X_batch.to(device).float(), y_batch.to(device).float()\n",
    "                out = model(X_batch)\n",
    "                loss = loss_fn(out, y_batch)\n",
    "\n",
    "                ep_val_loss.append(loss.item())\n",
    "                ep_val_mae.append(mae(y_batch*max_target, out*max_target))\n",
    "\n",
    "        print(f'Epoch {epoch + 1} of {n_epochs} took {time.time() - start_time:.3f}s')\n",
    "\n",
    "        train_loss.append(np.mean(ep_train_loss))\n",
    "        train_mae.append(np.mean(ep_train_mae))\n",
    "\n",
    "        val_loss.append(np.mean(ep_val_loss))\n",
    "        val_mae.append(np.mean(ep_val_mae))\n",
    "\n",
    "        clear_output(True)\n",
    "\n",
    "        plot_training(train_loss, train_mae, val_loss, val_mae)\n",
    "\n",
    "        print(f\"\\t training loss: {train_loss[-1]:.6f}\")\n",
    "        print(f\"\\t training MAE: {train_mae[-1]:.6f}\")\n",
    "        print(f\"\\t validation loss: {val_loss[-1]:.6f}\")\n",
    "        print(f\"\\t validation MAE: {val_mae[-1]:.3f}\")\n",
    "\n",
    "        if scheduler is not None:\n",
    "                scheduler.step()\n",
    "\n",
    "    return train_loss, train_mae, val_loss, val_mae\n",
    "\n",
    "class CustomLoss(nn.Module):\n",
    "    def __init__(self):\n",
    "        super(CustomLoss, self).__init__()\n",
    "\n",
    "    def forward(self, y, y_true, eps=1e-7):\n",
    "        return (nn.functional.l1_loss(y, y_true) + torch.sqrt_(nn.functional.mse_loss(y, y_true)))/2\n"
   ]
  },
  {
   "cell_type": "code",
   "execution_count": 2,
   "outputs": [],
   "source": [
    "class ResBlock(nn.Module):\n",
    "    def __init__(self, input_size=100, expanded_size=200, output_size=100):\n",
    "        super(self.__class__, self).__init__()\n",
    "\n",
    "        activation = nn.Hardswish()\n",
    "\n",
    "        self.input_size = input_size\n",
    "        self.expanded_size = expanded_size\n",
    "        self.output_size = output_size\n",
    "\n",
    "        self.model = nn.Sequential(\n",
    "            nn.Linear(input_size, expanded_size),\n",
    "            nn.BatchNorm1d(expanded_size, eps = 1e-3, momentum = 0.1),\n",
    "            activation,\n",
    "            nn.Linear(expanded_size, output_size),\n",
    "            nn.BatchNorm1d(output_size, eps = 1e-3, momentum = 0.1),\n",
    "            activation,\n",
    "        )\n",
    "\n",
    "    def forward(self, inp):\n",
    "        out = self.model(inp)\n",
    "        if self.input_size == self.output_size:\n",
    "            out += inp\n",
    "        return out\n",
    "\n",
    "class TinyNeuralNetwork(nn.Module):\n",
    "    def __init__(self, input_size):\n",
    "        super(self.__class__, self).__init__()\n",
    "        activation = nn.Hardswish()\n",
    "        self.model = nn.Sequential(\n",
    "            nn.Linear(input_size, input_size*2),\n",
    "            nn.BatchNorm1d(input_size*2, eps = 1e-3, momentum = 0.1),\n",
    "            activation,\n",
    "            nn.Linear(input_size*2, input_size*4),\n",
    "            nn.BatchNorm1d(input_size*4, eps = 1e-3, momentum = 0.1),\n",
    "            activation,\n",
    "            nn.Linear(input_size*4, input_size*8),\n",
    "            nn.BatchNorm1d(input_size*8, eps = 1e-3, momentum = 0.1),\n",
    "            activation,\n",
    "            nn.Linear(input_size*8, input_size*16),\n",
    "            nn.BatchNorm1d(input_size*16, eps = 1e-3, momentum = 0.1),\n",
    "            activation,\n",
    "\n",
    "            nn.Linear(input_size*16, 1),\n",
    "            # nn.Sigmoid()\n",
    "        )\n",
    "\n",
    "    def forward(self, inp):\n",
    "        out = self.model(inp)\n",
    "        return out"
   ],
   "metadata": {
    "collapsed": false,
    "pycharm": {
     "name": "#%%\n"
    }
   }
  },
  {
   "cell_type": "code",
   "execution_count": 3,
   "outputs": [],
   "source": [
    "test_data = pd.read_csv(filepath_or_buffer='test.csv', na_values=[\"?\"])\n",
    "test_data_IDs = test_data.loc[:, \"Id\"]\n",
    "test_data = test_data.drop(\"Id\", axis=1)\n",
    "test_cat_features_mask = (test_data.dtypes == \"object\").values\n",
    "normalizer = preprocessing.StandardScaler()\n",
    "test_X_real = test_data[test_data.columns[~test_cat_features_mask]]\n",
    "mis_replacer = KNNImputer(n_neighbors=5, weights='distance')\n",
    "test_X_no_mis_real = pd.DataFrame(data=mis_replacer.fit_transform(test_X_real), columns=test_X_real.columns)\n",
    "test_X_no_mis_norm = normalizer.fit_transform(test_X_no_mis_real)\n",
    "test_X_cat = test_data[test_data.columns[test_cat_features_mask]].fillna(\"\")\n",
    "\n",
    "dataset = pd.read_csv(filepath_or_buffer='train.csv', na_values=[\"?\"]).drop(\"Id\", axis=1)\n",
    "data = dataset.drop('SalePrice', axis=1)\n",
    "target = dataset.values[:, -1].astype(np.float)\n",
    "cat_features_mask = (data.dtypes == \"object\").values\n",
    "normalizer = preprocessing.StandardScaler()\n",
    "X_real = data[data.columns[~cat_features_mask]]\n",
    "mis_replacer = KNNImputer(n_neighbors=5, weights='distance')\n",
    "X_no_mis_real = pd.DataFrame(data=mis_replacer.fit_transform(X_real), columns=X_real.columns)\n",
    "X_no_mis_norm = normalizer.fit_transform(X_no_mis_real)\n",
    "X_cat = data[data.columns[cat_features_mask]].fillna(\"\")\n",
    "\n",
    "X_cat_one_hot = pd.get_dummies(pd.concat((X_cat, test_X_cat), axis = 0), drop_first=True).values[:len(X_cat)]\n",
    "\n",
    "max_target = np.max(target)\n",
    "target_norm = target / max_target\n",
    "# target_log = np.log10(target)\n",
    "\n",
    "X = np.concatenate([X_no_mis_norm, X_cat_one_hot], axis=1)\n",
    "\n",
    "# X_train, X_val, y_train, y_val = train_test_split(X, target, test_size=0.1)\n",
    "test_X_cat_one_hot_whole_pack = pd.get_dummies(pd.concat((test_X_cat, X_cat), axis = 0), drop_first=True)\n",
    "test_X_cat_one_hot = test_X_cat_one_hot_whole_pack.values[:len(test_X_cat)]\n",
    "test_X = np.concatenate([test_X_no_mis_norm, test_X_cat_one_hot], axis=1)\n",
    "test_X_frame = pd.DataFrame(data=test_X, columns=test_X_no_mis_real.columns.append(test_X_cat_one_hot_whole_pack.columns))\n",
    "\n",
    "# X_train, X_val, y_train, y_val = train_test_split(X, target, test_size=0.1)\n",
    "\n",
    "split_index = int(len(X) * 0.9)\n",
    "shuffle(X)\n",
    "train_loader = torch.utils.data.DataLoader(list(zip(X,target))[:split_index],\n",
    "                                           batch_size=256,\n",
    "                                           shuffle=True,\n",
    "                                           num_workers=0)\n",
    "val_loader = torch.utils.data.DataLoader(list(zip(X,target))[split_index:],\n",
    "                                           batch_size=256,\n",
    "                                           shuffle=True,\n",
    "                                           num_workers=0)"
   ],
   "metadata": {
    "collapsed": false,
    "pycharm": {
     "name": "#%%\n"
    }
   }
  },
  {
   "cell_type": "code",
   "execution_count": 4,
   "outputs": [
    {
     "data": {
      "text/plain": "<Figure size 1152x432 with 2 Axes>",
      "image/png": "[encoded data removed]"
     },
     "metadata": {
      "needs_background": "light"
     },
     "output_type": "display_data"
    },
    {
     "name": "stdout",
     "output_type": "stream",
     "text": [
      "\t training loss: 5955332437.333333\n",
      "\t training MAE: 55885.629557\n",
      "\t validation loss: 5260571648.000000\n",
      "\t validation MAE: 57267.762\n"
     ]
    }
   ],
   "source": [
    "n_epochs = 50\n",
    "model = TinyNeuralNetwork(X.shape[1]).to(device)\n",
    "opt = torch.optim.AdamW(model.parameters(), lr = 10e-2, betas=(0.9, 0.999), eps=1e-08, weight_decay=0.01, amsgrad=False)\n",
    "scheduler = torch.optim.lr_scheduler.CosineAnnealingLR(opt, eta_min=1e-4, T_max=n_epochs, last_epoch=-1)\n",
    "loss_func = nn.MSELoss()\n",
    "\n",
    "tr_loss, tr_acc, val_loss, val_acc = train_model(model, train_loader, val_loader,\n",
    "                                                 loss_fn=loss_func, opt=opt, n_epochs=n_epochs, scheduler=scheduler, max_target=1)"
   ],
   "metadata": {
    "collapsed": false,
    "pycharm": {
     "name": "#%%\n"
    }
   }
  },
  {
   "cell_type": "code",
   "execution_count": 73,
   "outputs": [],
   "source": [
    "model = model.cpu()\n",
    "test_out = model(torch.tensor(test_X).float())\n",
    "test_out = 10**test_out\n",
    "test_out = test_out.detach().numpy().squeeze(1)\n",
    "\n",
    "result = pd.DataFrame(data=np.stack((test_data_IDs, test_out), axis=1).astype(dtype=np.int), columns=[\"Id\", \"SalePrice\"])\n",
    "result.to_csv('result.csv', index=False)"
   ],
   "metadata": {
    "collapsed": false,
    "pycharm": {
     "name": "#%%\n"
    }
   }
  },
  {
   "cell_type": "markdown",
   "source": [
    "Results are pretty bad, lets try something more complicated than simple fully connected nn (tabNet for example)."
   ],
   "metadata": {
    "collapsed": false,
    "pycharm": {
     "name": "#%% md\n"
    }
   }
  }
 ],
 "metadata": {
  "kernelspec": {
   "display_name": "Python 3",
   "language": "python",
   "name": "python3"
  },
  "language_info": {
   "codemirror_mode": {
    "name": "ipython",
    "version": 2
   },
   "file_extension": ".py",
   "mimetype": "text/x-python",
   "name": "python",
   "nbconvert_exporter": "python",
   "pygments_lexer": "ipython2",
   "version": "2.7.6"
  }
 },
 "nbformat": 4,
 "nbformat_minor": 0
}